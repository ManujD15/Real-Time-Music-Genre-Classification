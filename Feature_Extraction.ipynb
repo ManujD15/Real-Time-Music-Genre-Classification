{
 "cells": [
  {
   "cell_type": "code",
   "execution_count": 1,
   "metadata": {},
   "outputs": [],
   "source": [
    "import warnings\n",
    "warnings.filterwarnings('ignore')"
   ]
  },
  {
   "cell_type": "code",
   "execution_count": 2,
   "metadata": {},
   "outputs": [],
   "source": [
    "import pandas as pd\n",
    "import os\n",
    "from tqdm import tqdm\n",
    "import numpy as np\n",
    "import librosa\n",
    "from scipy.stats import kurtosis\n",
    "from scipy.stats import skew"
   ]
  },
  {
   "cell_type": "code",
   "execution_count": 3,
   "metadata": {},
   "outputs": [],
   "source": [
    "def extract_feat(y,sr=22050,n_fft=1024,hop_length=512):\n",
    "    features = {'centroid': librosa.feature.spectral_centroid(y, sr=sr, n_fft=n_fft, hop_length=hop_length).ravel(),\n",
    "                'flux': librosa.onset.onset_strength(y=y, sr=sr).ravel(),\n",
    "                'rmse': librosa.feature.rms(y, frame_length=n_fft, hop_length=hop_length).ravel(),\n",
    "                'zcr': librosa.feature.zero_crossing_rate(y, frame_length=n_fft, hop_length=hop_length).ravel(),\n",
    "                'contrast': librosa.feature.spectral_contrast(y, sr=sr).ravel(),\n",
    "                'bandwidth': librosa.feature.spectral_bandwidth(y, sr=sr, n_fft=n_fft, hop_length=hop_length).ravel(),\n",
    "                'flatness': librosa.feature.spectral_flatness(y, n_fft=n_fft, hop_length=hop_length).ravel(),\n",
    "                'rolloff': librosa.feature.spectral_rolloff(y, sr=sr, n_fft=n_fft, hop_length=hop_length).ravel()}\n",
    "\n",
    "    # MFCC treatment\n",
    "    mfcc = librosa.feature.mfcc(y, n_fft=n_fft, hop_length=hop_length, n_mfcc=20)\n",
    "    for idx, v_mfcc in enumerate(mfcc):\n",
    "        features['mfcc_{}'.format(idx)] = v_mfcc.ravel()\n",
    "\n",
    "    # Get statistics from the vectors\n",
    "    def feature_stats(features):\n",
    "        result = {}\n",
    "        for k, v in features.items():\n",
    "            result['{}_max'.format(k)] = np.max(v)\n",
    "            result['{}_min'.format(k)] = np.min(v)\n",
    "            result['{}_mean'.format(k)] = np.mean(v)\n",
    "            result['{}_std'.format(k)] = np.std(v)\n",
    "            result['{}_kurtosis'.format(k)] = kurtosis(v)\n",
    "            result['{}_skew'.format(k)] = skew(v)\n",
    "        return result\n",
    "\n",
    "    dict_agg_features = feature_stats(features)\n",
    "    dict_agg_features['tempo'] = librosa.beat.tempo(y=y,sr=sr,hop_length=hop_length)[0]\n",
    "\n",
    "    return dict_agg_features\n"
   ]
  },
  {
   "cell_type": "code",
   "execution_count": null,
   "metadata": {},
   "outputs": [],
   "source": [
    "# #def make_train_data():\n",
    "#     arr_features=[]\n",
    "#     os.chdir(\"C:\\\\Users\\\\manuj\\\\OneDrive\\\\Desktop\\\\Data\\\\Train\")\n",
    "#     genres = 'blues classical country disco hiphop jazz metal pop reggae rock'.split()\n",
    "#     for idx,genre in tqdm(enumerate(genres),total=len(genres)):\n",
    "#         for fname in os.listdir(genre):\n",
    "#             y, sr = librosa.load(genre+'/'+fname, duration=30)\n",
    "#             dict_features=extract_features(y=y,sr=sr)\n",
    "#             dict_features['label']=idx\n",
    "#             arr_features.append(dict_features)\n",
    "\n",
    "#     df=pd.DataFrame(data=arr_features)\n",
    "#     print(df.head())\n",
    "#     print(df.shape)\n",
    "#     os.chdir('..')\n",
    "#     ## os.chdir('..')\n",
    "#     df.to_csv('train_data.csv',index=False)\n"
   ]
  },
  {
   "cell_type": "code",
   "execution_count": 4,
   "metadata": {},
   "outputs": [],
   "source": [
    "def train_data():\n",
    "    try:\n",
    "        features=[]\n",
    "        os.chdir(\"C:\\\\Users\\\\manuj\\\\OneDrive\\\\Desktop\\\\FData\\\\Train\")\n",
    "        genres = 'blues classical country disco hiphop jazz metal pop reggae rock'.split()\n",
    "        for idx,genre in tqdm(enumerate(genres),total=len(genres)):\n",
    "            for fname in os.listdir(genre):\n",
    "                y, sr = librosa.load(genre+'/'+fname, duration=30)\n",
    "                dict_features=extract_feat(y=y,sr=sr)\n",
    "                dict_features['label']=idx\n",
    "                features.append(dict_features)\n",
    "        df=pd.DataFrame(data=features)\n",
    "        print(df.head())\n",
    "        print(df.shape)\n",
    "        os.chdir('..') # changing to one parent directory\n",
    "        df.to_csv('train.csv',index=False)\n",
    "    except Exception as e:\n",
    "        print(\"got an exception with a jazz file, hence skipping it.\")\n",
    "        \n"
   ]
  },
  {
   "cell_type": "code",
   "execution_count": null,
   "metadata": {},
   "outputs": [],
   "source": [
    "\n",
    "def test_data():\n",
    "    try:\n",
    "        features=[]\n",
    "        os.chdir(\"C:\\\\Users\\\\manuj\\\\OneDrive\\\\Desktop\\\\FData\\\\Test\")\n",
    "        genres = 'blues classical country disco hiphop jazz metal pop reggae rock'.split()\n",
    "        for idx,genre in tqdm(enumerate(genres),total=len(genres)):\n",
    "            for fname in os.listdir(genre):\n",
    "                y, sr = librosa.load(genre+'/'+fname, duration=30)\n",
    "                dict_features=extract_feat(y=y,sr=sr)\n",
    "                dict_features['label']=idx\n",
    "                features.append(dict_features)\n",
    "        df=pd.DataFrame(data=features)\n",
    "        print(df.head())\n",
    "        print(df.shape)\n",
    "        os.chdir('..')  # changing to one parent directory\n",
    "        df.to_csv('test.csv',index=False)\n",
    "    except Exception as e:\n",
    "        print(\"got an exception with a jazz file, hence skipping it.\")\n",
    "        \n",
    "\n"
   ]
  },
  {
   "cell_type": "code",
   "execution_count": 5,
   "metadata": {},
   "outputs": [
    {
     "name": "stderr",
     "output_type": "stream",
     "text": [
      "100%|██████████| 10/10 [03:55<00:00, 23.56s/it]"
     ]
    },
    {
     "name": "stdout",
     "output_type": "stream",
     "text": [
      "   centroid_max  centroid_min  centroid_mean  centroid_std  centroid_kurtosis  \\\n",
      "0   4053.985673    925.934083    1727.609343    376.860919           6.100739   \n",
      "1   5430.122461    372.728961    1450.537368    615.182106           4.766406   \n",
      "2   4709.894987    356.735645    1493.682380    419.421785          11.343224   \n",
      "3   3692.033659    261.951363     996.731305    428.075756           2.700194   \n",
      "4   4484.855104    783.165978    1749.556720    599.337692           1.670335   \n",
      "\n",
      "   centroid_skew   flux_max  flux_min  flux_mean  flux_std  ...  \\\n",
      "0       1.660491  10.981943       0.0   1.392348  1.481918  ...   \n",
      "1       1.475166  17.791128       0.0   1.445780  2.003516  ...   \n",
      "2       1.900785  14.719387       0.0   1.639342  1.950413  ...   \n",
      "3       1.111396  14.619912       0.0   1.248535  1.750339  ...   \n",
      "4       1.118022  12.954987       0.0   1.646354  1.964184  ...   \n",
      "\n",
      "   mfcc_18_kurtosis  mfcc_18_skew  mfcc_19_max  mfcc_19_min  mfcc_19_mean  \\\n",
      "0          0.954317      0.303927    34.931175   -25.915401      1.031857   \n",
      "1          1.004048      0.246639    31.484390   -20.805553      0.308605   \n",
      "2          0.349546      0.556514    19.085350   -29.447052     -2.110197   \n",
      "3          0.098554     -0.088979    24.258465   -23.636005     -1.656902   \n",
      "4          0.621154      0.051067    11.389919   -41.104294    -11.023898   \n",
      "\n",
      "   mfcc_19_std  mfcc_19_kurtosis  mfcc_19_skew       tempo  label  \n",
      "0     7.580093          0.411162      0.241771  123.046875      0  \n",
      "1     7.543407          0.622137      0.402624  107.666016      0  \n",
      "2     6.445020          0.502469     -0.048136  161.499023      0  \n",
      "3     6.556767          0.939913      0.145071  172.265625      0  \n",
      "4     8.210936          0.472937     -0.549693  135.999178      0  \n",
      "\n",
      "[5 rows x 170 columns]\n",
      "(650, 170)\n"
     ]
    },
    {
     "name": "stderr",
     "output_type": "stream",
     "text": [
      "\n"
     ]
    }
   ],
   "source": [
    "\n",
    "train_data()"
   ]
  },
  {
   "cell_type": "code",
   "execution_count": 6,
   "metadata": {},
   "outputs": [
    {
     "ename": "NameError",
     "evalue": "name 'test_data' is not defined",
     "output_type": "error",
     "traceback": [
      "\u001b[1;31m---------------------------------------------------------------------------\u001b[0m",
      "\u001b[1;31mNameError\u001b[0m                                 Traceback (most recent call last)",
      "\u001b[1;32m<ipython-input-6-c0535b86d8a1>\u001b[0m in \u001b[0;36m<module>\u001b[1;34m\u001b[0m\n\u001b[1;32m----> 1\u001b[1;33m \u001b[0mtest_data\u001b[0m\u001b[1;33m(\u001b[0m\u001b[1;33m)\u001b[0m\u001b[1;33m\u001b[0m\u001b[1;33m\u001b[0m\u001b[0m\n\u001b[0m",
      "\u001b[1;31mNameError\u001b[0m: name 'test_data' is not defined"
     ]
    }
   ],
   "source": [
    "test_data()"
   ]
  },
  {
   "cell_type": "code",
   "execution_count": null,
   "metadata": {},
   "outputs": [],
   "source": []
  }
 ],
 "metadata": {
  "kernelspec": {
   "display_name": "musicclass",
   "language": "python",
   "name": "python3"
  },
  "language_info": {
   "codemirror_mode": {
    "name": "ipython",
    "version": 3
   },
   "file_extension": ".py",
   "mimetype": "text/x-python",
   "name": "python",
   "nbconvert_exporter": "python",
   "pygments_lexer": "ipython3",
   "version": "3.6.13"
  }
 },
 "nbformat": 4,
 "nbformat_minor": 2
}
